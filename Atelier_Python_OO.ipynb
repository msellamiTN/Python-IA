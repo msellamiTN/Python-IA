{
  "nbformat": 4,
  "nbformat_minor": 0,
  "metadata": {
    "colab": {
      "provenance": [],
      "authorship_tag": "ABX9TyPj+EXK1N1ssrXhUcXvbwJA",
      "include_colab_link": true
    },
    "kernelspec": {
      "name": "python3",
      "display_name": "Python 3"
    },
    "language_info": {
      "name": "python"
    }
  },
  "cells": [
    {
      "cell_type": "markdown",
      "metadata": {
        "id": "view-in-github",
        "colab_type": "text"
      },
      "source": [
        "<a href=\"https://colab.research.google.com/github/msellamiTN/Python-IA/blob/main/Atelier_Python_OO.ipynb\" target=\"_parent\"><img src=\"https://colab.research.google.com/assets/colab-badge.svg\" alt=\"Open In Colab\"/></a>"
      ]
    },
    {
      "cell_type": "markdown",
      "source": [
        "# **Atelier 1 : Python OO : les classes**\n",
        "\n",
        "## **A.\tExercice : Gestion d'une bibliothèque en utilisant des classes Python**\n",
        "\n",
        "###.\t**Introduction** :\n",
        "\n",
        "Dans cet exercice, nous allons simuler la gestion d'une bibliothèque en utilisant les principes de la programmation orientée objet en Python. Vous serez amené à créer des classes pour modéliser les entités telles que les livres, les membres de la bibliothèque, et la bibliothèque elle-même. Chaque classe aura des attributs spécifiques et des méthodes pour effectuer des actions telles que l'emprunt et le retour de livres, l'ajout de nouveaux livres à la bibliothèque, et bien d'autres.\n",
        "\n",
        "###.\t**Objectifs** :\n",
        "*\tComprendre la création de classes en Python.\n",
        "*\tMettre en œuvre des méthodes pour interagir avec les instances de classe.\n",
        "*\tUtiliser des attributs pour stocker des informations spécifiques aux objets.\n",
        "*\tSimuler des actions de gestion de bibliothèque, telles que l'emprunt, le retour, l'ajout de membres et de livres.\n",
        "### **Enoncées**\n",
        "1. **Classe Livre :**\n",
        "*\tDéfinissez une classe Python appelée Livre avec les attributs suivants : titre, auteur, annee, isbn.\n",
        "*\tAjoutez une méthode afficher_details qui affiche les détails du livre.\n",
        "2. **Création d'une instance de Livre :**\n",
        "*\tCréez une instance de la classe Livre avec les détails suivants : titre - \"Harry Potter\", auteur - \"J.K. Rowling\", année - 2005, ISBN - \"9780545010221\".\n",
        "3. **Affichage des détails du livre :**\n",
        "*\tAppelez la méthode afficher_details sur l'instance créée pour afficher les détails du livre.\n",
        "4.\t**Classe MembreBibliotheque :**\n",
        "*\tDéfinissez une classe Python appelée MembreBibliotheque avec les attributs suivants : nom, numero_membre, livres_empruntes (une liste).\n",
        "*\tAjoutez les méthodes suivantes : emprunter_livre, rendre_livre et afficher_livres_empruntes.\n",
        "5. **Création d'une instance de MembreBibliotheque :**\n",
        "*\tCréez une instance de la classe MembreBibliotheque avec les détails suivants : nom - \"Alice\", numero_membre - \"123\".\n",
        "6.  **Emprunt de livre par un membre :**\n",
        "*\tAppelez la méthode emprunter_livre sur l'instance du membre pour emprunter le livre créé précédemment.\n",
        "7. **Affichage des livres empruntés par un membre :**\n",
        "*\tAppelez la méthode afficher_livres_empruntes pour afficher les livres empruntés par le membre.\n",
        "8.\t**Classe Bibliotheque :**\n",
        "*\tDéfinissez une classe Python appelée Bibliotheque avec les attributs : livres_disponibles (une liste) et membres (une liste).\n",
        "*\tAjoutez les méthodes suivantes : ajouter_livre, ajouter_membre, afficher_livres_disponibles et afficher_membres.\n",
        "9.\t**Ajout de livre à la bibliothèque :**\n",
        "*\tCréez une instance de la classe Bibliotheque et utilisez la méthode ajouter_livre pour ajouter le livre créé initialement.\n",
        "10. **Ajout de membre à la bibliothèque :**\n",
        "*\tUtilisez la méthode ajouter_membre pour ajouter le membre créé précédemment à la bibliothèque.\n",
        "11.\t**Affichage des livres disponibles :**\n",
        "*\tUtilisez la méthode afficher_livres_disponibles pour afficher la liste des livres disponibles dans la bibliothèque.\n",
        "12.\t**Affichage des membres de la bibliothèque :**\n",
        "*\tUtilisez la méthode afficher_membres pour afficher la liste des membres de la bibliothèque.\n",
        "#### **Note** : Complétez chaque étape en implémentant les classes et les méthodes nécessaires, sans fournir les réponses. Utilisez les instances créées pour tester votre implémentation à chaque étape.\n"
      ],
      "metadata": {
        "id": "FChDDX9fhGaO"
      }
    },
    {
      "cell_type": "markdown",
      "source": [
        "#### Solution Classique avec les dictionnaires et les listes"
      ],
      "metadata": {
        "id": "H8RgfyiEpXV5"
      }
    },
    {
      "cell_type": "code",
      "source": [
        "# Liste pour stocker les livres disponibles\n",
        "livres = []\n",
        "\n",
        "# Liste pour stocker les membres de la bibliothèque\n",
        "membres = []\n",
        "\n",
        "livre = {'titre': \"Harru Portser\", 'auteur': \"auteur\", 'annee': 2005, 'isbn': \"9292992\"}\n",
        "\n",
        "\n",
        "def afficher_details_livre(livre):\n",
        "    \"\"\"Affiche les détails d'un livre.\"\"\"\n",
        "    print(f\"{livre['titre']} par {livre['auteur']}, publié en {livre['annee']}, ISBN : {livre['isbn']}\")\n",
        "\n",
        "\n",
        "def emprunter_livre(membre, livre):\n",
        "    \"\"\"Emprunte un livre et l'ajoute à la liste des livres empruntés par un membre.\"\"\"\n",
        "    membre['livres_empruntes'].append(livre)\n",
        "\n",
        "\n",
        "def rendre_livre(membre, livre):\n",
        "    \"\"\"Rend un livre et le retire de la liste des livres empruntés par un membre.\"\"\"\n",
        "    membre['livres_empruntes'].remove(livre)\n",
        "\n",
        "\n",
        "def afficher_livres_empruntes(membre):\n",
        "    \"\"\"Affiche la liste des livres empruntés par un membre.\"\"\"\n",
        "    if membre['livres_empruntes']:\n",
        "        print(f\"Livres empruntés par {membre['nom']}:\")\n",
        "        for livre in membre['livres_empruntes']:\n",
        "            afficher_details_livre(livre)\n",
        "    else:\n",
        "        print(f\"{membre['nom']} n'a emprunté aucun livre.\")\n",
        "\n",
        "\n",
        "def ajouter_livre(titre, auteur, annee, isbn):\n",
        "    \"\"\"Ajoute un livre à la liste des livres disponibles.\"\"\"\n",
        "    livre = {'titre': titre, 'auteur': auteur, 'annee': annee, 'isbn': isbn}\n",
        "    livres.append(livre)\n",
        "\n",
        "\n",
        "def ajouter_membre(nom, numero_membre):\n",
        "    \"\"\"Ajoute un membre à la liste des membres.\"\"\"\n",
        "    membre = {'nom': nom, 'numero': numero_membre, 'livres_empruntes': []}\n",
        "    membres.append(membre)\n",
        "\n",
        "\n",
        "def afficher_livres_disponibles():\n",
        "    \"\"\"Affiche la liste des livres disponibles.\"\"\"\n",
        "    if livres:\n",
        "        print(\"Livres disponibles dans la bibliothèque:\")\n",
        "        for livre in livres:\n",
        "            afficher_details_livre(livre)\n",
        "    else:\n",
        "        print(\"Aucun livre disponible dans la bibliothèque.\")\n",
        "\n",
        "\n",
        "def afficher_membres():\n",
        "    \"\"\"Affiche la liste des membres de la bibliothèque.\"\"\"\n",
        "    if membres:\n",
        "        print(\"Membres de la bibliothèque:\")\n",
        "        for membre in membres:\n",
        "            print(f\"Nom: {membre['nom']}, Numéro de membre: {membre['numero']}\")\n",
        "    else:\n",
        "        print(\"Aucun membre dans la bibliothèque.\")\n",
        "\n",
        "\n",
        "# Exemple d'utilisation\n",
        "if __name__ == \"__main__\":\n",
        "    # Ajout de livres\n",
        "    ajouter_livre(\"Harry Potter\", \"J.K. Rowling\", 2005, \"9780545010221\")\n",
        "    ajouter_livre(\"Le Seigneur des Anneaux\", \"J.R.R. Tolkien\", 1954, \"9780261103252\")\n",
        "\n",
        "    # Ajout de membres\n",
        "    ajouter_membre(\"Alice\", \"123\")\n",
        "    ajouter_membre(\"Bob\", \"456\")\n",
        "\n",
        "    # Emprunt de livres par des membres\n",
        "    emprunter_livre(membres[0], livres[0])\n",
        "    emprunter_livre(membres[1], livres[1])\n",
        "\n",
        "    # Affichage des livres disponibles, membres et livres empruntés\n",
        "    afficher_livres_disponibles()\n",
        "    afficher_membres()\n",
        "    afficher_livres_empruntes(membres[0])\n",
        "    afficher_livres_empruntes(membres[1])\n"
      ],
      "metadata": {
        "colab": {
          "base_uri": "https://localhost:8080/"
        },
        "id": "1_t7cjBfpkGh",
        "outputId": "26db6d92-0b93-4732-e299-c57ac6a3e9de"
      },
      "execution_count": 37,
      "outputs": [
        {
          "output_type": "stream",
          "name": "stdout",
          "text": [
            "Livres disponibles dans la bibliothèque:\n",
            "Harry Potter par J.K. Rowling, publié en 2005, ISBN : 9780545010221\n",
            "Le Seigneur des Anneaux par J.R.R. Tolkien, publié en 1954, ISBN : 9780261103252\n",
            "Membres de la bibliothèque:\n",
            "Nom: Alice, Numéro de membre: 123\n",
            "Nom: Bob, Numéro de membre: 456\n",
            "Livres empruntés par Alice:\n",
            "Harry Potter par J.K. Rowling, publié en 2005, ISBN : 9780545010221\n",
            "Livres empruntés par Bob:\n",
            "Le Seigneur des Anneaux par J.R.R. Tolkien, publié en 1954, ISBN : 9780261103252\n"
          ]
        }
      ]
    },
    {
      "cell_type": "markdown",
      "source": [
        "# Solution Python Orienté Objet\n",
        "<img src=\"https://github.com/msellamiTN/Python-IA/blob/main/Exercice1.png?raw=true\">"
      ],
      "metadata": {
        "id": "L2C5jquQ8f97"
      }
    },
    {
      "cell_type": "markdown",
      "source": [
        "# Defintion de la classe Livre\n",
        "1.\tClasse Livre :\n",
        "\n",
        "*   Définissez une classe Python appelée Livre avec les attributs suivants :  Titre, auteur, annee, isbn.\n",
        "*  \tAjoutez une méthode afficher_details qui affiche les détails du livre.\n",
        "\n",
        "\n",
        "\n",
        "\n"
      ],
      "metadata": {
        "id": "K3kDqxc6gmCH"
      }
    },
    {
      "cell_type": "code",
      "source": [
        "class Livre:\n",
        "    def __init__(self, titre, auteur, annee, isbn):\n",
        "        \"\"\"Initialise un objet Livre avec les détails spécifiés.\"\"\"\n",
        "        self.titre = titre\n",
        "        self.auteur = auteur\n",
        "        self.annee = annee\n",
        "        self.isbn = isbn\n",
        "\n",
        "    def afficher_details(self):\n",
        "        \"\"\"Affiche les détails du Livre.\"\"\"\n",
        "        print(f\"{self.titre} par {self.auteur}, publié en {self.annee}, ISBN : {self.isbn}\")\n"
      ],
      "metadata": {
        "id": "iIw_JzwVnQTO"
      },
      "execution_count": 38,
      "outputs": []
    },
    {
      "cell_type": "code",
      "source": [],
      "metadata": {
        "id": "6fKYr5-rb3Rr"
      },
      "execution_count": 38,
      "outputs": []
    },
    {
      "cell_type": "code",
      "source": [
        "# Création d'un livre\n",
        "harry_potter = Livre(\"Harry Potter\", \"J.K. Rowling\", 2005, \"9780545010221\")\n",
        "harry_potter.afficher_details()"
      ],
      "metadata": {
        "colab": {
          "base_uri": "https://localhost:8080/"
        },
        "id": "yODu8H8xn3Ej",
        "outputId": "3fcae678-ccb3-4209-edb2-148dd322e457"
      },
      "execution_count": 39,
      "outputs": [
        {
          "output_type": "stream",
          "name": "stdout",
          "text": [
            "Harry Potter par J.K. Rowling, publié en 2005, ISBN : 9780545010221\n"
          ]
        }
      ]
    },
    {
      "cell_type": "markdown",
      "source": [
        "# Classe MembreBibliotheque :\n",
        "\n",
        "*   Définissez une classe Python appelée MembreBibliotheque avec les attributs suivants : nom, numero_membre, livres_empruntes (une liste).\n",
        "*   Ajoutez les méthodes suivantes : emprunter_livre, rendre_livre et afficher_livres_empruntes.\n",
        "\n",
        "\n",
        "- .\tCréation d'une instance de MembreBibliotheque :\n",
        "*   Créez une instance de la classe MembreBibliotheque avec les détails suivants : nom - \"Alice\", numero_membre - \"123\".\n"
      ],
      "metadata": {
        "id": "mH_RxS7YnZ37"
      }
    },
    {
      "cell_type": "code",
      "execution_count": 40,
      "metadata": {
        "id": "jn3XLsZDgiyw"
      },
      "outputs": [],
      "source": [
        "class MembreBibliotheque:\n",
        "    def __init__(self, nom, numero_membre):\n",
        "        \"\"\"Initialise un objet MembreBibliotheque avec les détails spécifiés.\"\"\"\n",
        "        self.nom = nom\n",
        "        self.numero_membre = numero_membre\n",
        "        self.livres_empruntes = []\n",
        "\n",
        "    def emprunter_livre(self, livre):\n",
        "        \"\"\"Emprunte un livre et l'ajoute à la liste des livres empruntés.\"\"\"\n",
        "        self.livres_empruntes.append(livre)\n",
        "\n",
        "    def rendre_livre(self, livre):\n",
        "        \"\"\"Rend un livre et le retire de la liste des livres empruntés.\"\"\"\n",
        "        self.livres_empruntes.remove(livre)\n",
        "\n",
        "    def afficher_livres_empruntes(self):\n",
        "        \"\"\"Affiche la liste des livres empruntés par le membre.\"\"\"\n",
        "        if self.livres_empruntes:\n",
        "            print(f\"Livres empruntés par {self.nom}:\")\n",
        "            for livre in self.livres_empruntes:\n",
        "                livre.afficher_details()\n",
        "        else:\n",
        "            print(f\"{self.nom} n'a emprunté aucun livre.\")\n",
        "\n",
        "\n",
        "\n",
        "\n",
        "\n"
      ]
    },
    {
      "cell_type": "code",
      "source": [
        "# Création d'un membre de la bibliothèque\n",
        "alice = MembreBibliotheque(\"Alice\", \"123\")"
      ],
      "metadata": {
        "id": "tETWWmdqnyNr"
      },
      "execution_count": 41,
      "outputs": []
    },
    {
      "cell_type": "code",
      "source": [
        "class Bibliotheque:\n",
        "    def __init__(self):\n",
        "        \"\"\"Initialise un objet Bibliotheque avec des listes vides de livres disponibles et de membres.\"\"\"\n",
        "        self.livres_disponibles = []\n",
        "        self.membres = []\n",
        "\n",
        "    def ajouter_livre(self, livre):\n",
        "        \"\"\"Ajoute un livre à la liste des livres disponibles dans la bibliothèque.\"\"\"\n",
        "        self.livres_disponibles.append(livre)\n",
        "\n",
        "    def ajouter_membre(self, membre):\n",
        "        \"\"\"Ajoute un membre à la liste des membres de la bibliothèque.\"\"\"\n",
        "        self.membres.append(membre)\n",
        "\n",
        "    def afficher_livres_disponibles(self):\n",
        "        \"\"\"Affiche la liste des livres disponibles dans la bibliothèque.\"\"\"\n",
        "        if self.livres_disponibles:\n",
        "            print(\"Livres disponibles dans la bibliothèque:\")\n",
        "            for livre in self.livres_disponibles:\n",
        "                livre.afficher_details()\n",
        "        else:\n",
        "            print(\"Aucun livre disponible dans la bibliothèque.\")\n",
        "\n",
        "    def afficher_membres(self):\n",
        "        \"\"\"Affiche la liste des membres de la bibliothèque.\"\"\"\n",
        "        if self.membres:\n",
        "            print(\"Membres de la bibliothèque:\")\n",
        "            for membre in self.membres:\n",
        "                print(f\"Nom: {membre.nom}, Numéro de membre: {membre.numero_membre}\")\n",
        "        else:\n",
        "            print(\"Aucun membre dans la bibliothèque.\")\n"
      ],
      "metadata": {
        "id": "KQbrNlQZhByQ"
      },
      "execution_count": 42,
      "outputs": []
    },
    {
      "cell_type": "markdown",
      "source": [
        "# Main Programme : test des classes"
      ],
      "metadata": {
        "id": "bRVKs5fToE1l"
      }
    },
    {
      "cell_type": "code",
      "source": [
        "# Exemple d'utilisation\n",
        "if __name__ == \"__main__\":\n",
        "    # Création d'un livre\n",
        "    harry_potter = Livre(\"Harry Potter\", \"J.K. Rowling\", 2005, \"9780545010221\")\n",
        "\n",
        "    # Création d'un membre de la bibliothèque\n",
        "    alice = MembreBibliotheque(\"Alice\", \"123\")\n",
        "\n",
        "    # Création d'une bibliothèque\n",
        "    bibliotheque = Bibliotheque()\n",
        "\n",
        "    # Ajout du livre à la bibliothèque\n",
        "    bibliotheque.ajouter_livre(harry_potter)\n",
        "\n",
        "    # Ajout du membre à la bibliothèque\n",
        "    bibliotheque.ajouter_membre(alice)\n",
        "\n",
        "    # Emprunt d'un livre par un membre\n",
        "    alice.emprunter_livre(harry_potter)\n",
        "\n",
        "    # Affichage des livres disponibles dans la bibliothèque\n",
        "    bibliotheque.afficher_livres_disponibles()\n",
        "\n",
        "    # Affichage des membres de la bibliothèque\n",
        "    bibliotheque.afficher_membres()\n",
        "\n",
        "    # Affichage des livres empruntés par un membre\n",
        "    alice.afficher_livres_empruntes()"
      ],
      "metadata": {
        "colab": {
          "base_uri": "https://localhost:8080/"
        },
        "id": "mVKV6boonYOI",
        "outputId": "fd29d374-26d0-4ddc-d978-f06dc7cc7781"
      },
      "execution_count": 43,
      "outputs": [
        {
          "output_type": "stream",
          "name": "stdout",
          "text": [
            "Livres disponibles dans la bibliothèque:\n",
            "Harry Potter par J.K. Rowling, publié en 2005, ISBN : 9780545010221\n",
            "Membres de la bibliothèque:\n",
            "Nom: Alice, Numéro de membre: 123\n",
            "Livres empruntés par Alice:\n",
            "Harry Potter par J.K. Rowling, publié en 2005, ISBN : 9780545010221\n"
          ]
        }
      ]
    },
    {
      "cell_type": "markdown",
      "source": [
        "# Nouvelle section\n",
        "<img src=\"https://github.com/msellamiTN/Python-IA/blob/main/Exercice2.png?raw=true\">\n"
      ],
      "metadata": {
        "id": "V2pBAU_Vf21b"
      }
    },
    {
      "cell_type": "code",
      "source": [
        "class Document:\n",
        "    def __init__(self, titre, auteur, annee, isbn):\n",
        "        \"\"\"Initialise un document avec des détails généraux.\"\"\"\n",
        "        self.titre = titre\n",
        "        self.auteur = auteur\n",
        "        self.annee = annee\n",
        "        self.isbn = isbn\n",
        "\n",
        "    def afficher_details(self):\n",
        "        \"\"\"Affiche les détails généraux du document.\"\"\"\n",
        "        print(f\"{self.titre} par {self.auteur}, publié en {self.annee}, ISBN : {self.isbn}\")\n",
        "\n",
        "\n",
        "class Livre(Document):#Extends Document\n",
        "    def __init__(self, titre, auteur, annee, isbn, genre, langue):\n",
        "        \"\"\"Initialise un livre avec des détails spécifiques aux livres.\"\"\"\n",
        "        super().__init__(titre, auteur, annee, isbn)\n",
        "        self.genre = genre\n",
        "        self.langue = langue\n",
        "    #Redefinition\n",
        "    def afficher_details(self):\n",
        "        \"\"\"Affiche les détails spécifiques aux livres en appelant la méthode de la classe de base.\"\"\"\n",
        "        super().afficher_details()\n",
        "        print(f\"Genre : {self.genre}, Langue : {self.langue}\")\n",
        "\n",
        "\n",
        "class Roman(Livre):\n",
        "    def __init__(self, titre, auteur, annee, isbn, genre, langue, periode):\n",
        "        \"\"\"Initialise un roman avec des détails spécifiques aux romans.\"\"\"\n",
        "        super().__init__(titre, auteur, annee, isbn, genre, langue)\n",
        "        self.periode = periode\n",
        "\n",
        "    def afficher_details(self):\n",
        "        \"\"\"Affiche les détails spécifiques aux romans en appelant la méthode de la classe Livre.\"\"\"\n",
        "        super().afficher_details()\n",
        "        print(f\"Période : {self.periode}\")\n",
        "\n",
        "\n",
        "class ScienceFiction(Livre):\n",
        "    def __init__(self, titre, auteur, annee, isbn, genre, langue, theme):\n",
        "        \"\"\"Initialise un livre de science-fiction avec des détails spécifiques.\"\"\"\n",
        "        super().__init__(titre, auteur, annee, isbn, genre, langue)\n",
        "        self.theme = theme\n",
        "\n",
        "    def afficher_details(self):\n",
        "        \"\"\"Affiche les détails spécifiques aux livres de science-fiction en appelant la méthode de la classe Livre.\"\"\"\n",
        "        super().afficher_details()\n",
        "        print(f\"Thème : {self.theme}\")\n",
        "\n",
        "\n",
        "# Création d'instances de sous-classes\n",
        "roman1 = Roman(\"Les Misérables\", \"Victor Hugo\", 1862, \"9780140444308\", \"Fiction\", \"Français\", \"XIXe siècle\")\n",
        "sf1 = ScienceFiction(\"Dune\", \"Frank Herbert\", 1965, \"9780441172719\", \"Science Fiction\", \"Anglais\", \"Espace et politique\")\n",
        "\n",
        "# Affichage des détails de chaque livre\n",
        "roman1.afficher_details()\n",
        "sf1.afficher_details()\n"
      ],
      "metadata": {
        "colab": {
          "base_uri": "https://localhost:8080/"
        },
        "id": "N51q-8Djf0WF",
        "outputId": "bd6fa71a-723c-4c16-bda4-4aaf5aebdebb"
      },
      "execution_count": 63,
      "outputs": [
        {
          "output_type": "stream",
          "name": "stdout",
          "text": [
            "Les Misérables par Victor Hugo, publié en 1862, ISBN : 9780140444308\n",
            "Genre : Fiction, Langue : Français\n",
            "Période : XIXe siècle\n",
            "Dune par Frank Herbert, publié en 1965, ISBN : 9780441172719\n",
            "Genre : Science Fiction, Langue : Anglais\n",
            "Thème : Espace et politique\n"
          ]
        }
      ]
    },
    {
      "cell_type": "code",
      "source": [
        "class Membre:\n",
        "    def __init__(self, nom, numero_membre):\n",
        "        \"\"\"Initialise un objet MembreBibliotheque avec les détails spécifiés.\"\"\"\n",
        "        self.nom = nom\n",
        "        self.numero_membre = numero_membre\n",
        "        self.livres_empruntes = []\n",
        "\n",
        "    def emprunter_livre(self, livre):\n",
        "        \"\"\"Emprunte un livre et l'ajoute à la liste des livres empruntés.\"\"\"\n",
        "        self.livres_empruntes.append(livre)\n",
        "\n",
        "    def rendre_livre(self, livre):\n",
        "        \"\"\"Rend un livre et le retire de la liste des livres empruntés.\"\"\"\n",
        "        self.livres_empruntes.remove(livre)\n",
        "\n",
        "    def afficher_livres_empruntes(self):\n",
        "        \"\"\"Affiche la liste des livres empruntés par le membre.\"\"\"\n",
        "        if self.livres_empruntes:\n",
        "            print(f\"Livres empruntés par {self.nom}:\")\n",
        "            for livre in self.livres_empruntes:\n",
        "                livre.afficher_details()\n",
        "        else:\n",
        "            print(f\"{self.nom} n'a emprunté aucun livre.\")\n",
        "\n",
        "class Etudiant(Membre):\n",
        "    def __init__(self, nom, numero_membre, niveau):\n",
        "        \"\"\"Initialise un étudiant avec un niveau.\"\"\"\n",
        "        super().__init__(nom, numero_membre)\n",
        "        self.niveau = niveau\n",
        "    #redefinir une methode herité\n",
        "    def afficher_livres_empruntes(self):\n",
        "        \"\"\"Affiche les détails de l'étudiant en appelant la méthode de la classe Membre.\"\"\"\n",
        "        super().afficher_livres_empruntes()\n",
        "        print(f\"Niveau : {self.niveau}\")\n",
        "\n",
        "\n",
        "class Enseignant(Membre):\n",
        "    def __init__(self, nom, numero_membre, grade):\n",
        "        \"\"\"Initialise un enseignant avec un grade.\"\"\"\n",
        "        super().__init__(nom, numero_membre)\n",
        "        self.grade = grade\n",
        "\n",
        "    def afficher_livres_empruntes(self):\n",
        "        \"\"\"Affiche les détails de l'enseignant en appelant la méthode de la classe Membre.\"\"\"\n",
        "        super().afficher_livres_empruntes()\n",
        "        print(f\"Grade : {self.grade}\")\n",
        "\n",
        "\n",
        "# Création d'instances de sous-classes\n",
        "etudiant1 = Etudiant(\"Alice\", \"123\", \"Première année\")\n",
        "enseignant1 = Enseignant(\"Professeur Smith\", \"456\", \"Maître de conférences\")\n",
        "membre = Membre(\"Fred\", \"123\")\n",
        "\n",
        "# Affichage des détails de chaque membre\n",
        "etudiant1.afficher_livres_empruntes()\n",
        "enseignant1.afficher_livres_empruntes()\n",
        "membre.afficher_livres_empruntes()"
      ],
      "metadata": {
        "colab": {
          "base_uri": "https://localhost:8080/"
        },
        "id": "wKusskt7jU7G",
        "outputId": "eec65633-2d62-489f-ce0d-103a52687768"
      },
      "execution_count": 69,
      "outputs": [
        {
          "output_type": "stream",
          "name": "stdout",
          "text": [
            "Alice n'a emprunté aucun livre.\n",
            "Niveau : Première année\n",
            "Professeur Smith n'a emprunté aucun livre.\n",
            "Grade : Maître de conférences\n",
            "Fred n'a emprunté aucun livre.\n"
          ]
        }
      ]
    },
    {
      "cell_type": "code",
      "source": [
        "class Bibliotheque:\n",
        "    def __init__(self):\n",
        "        \"\"\"Initialise un objet Bibliotheque avec des listes vides de livres disponibles et de membres.\"\"\"\n",
        "        self.livres_disponibles = []\n",
        "        self.membres = []\n",
        "\n",
        "    def ajouter_livre(self, livre):\n",
        "        \"\"\"Ajoute un livre à la liste des livres disponibles dans la bibliothèque.\"\"\"\n",
        "        if isinstance(livre, Livre):\n",
        "          self.livres_disponibles.append(livre)\n",
        "        else:\n",
        "          print(\"livre_instance is not an instance of Livre class.\")\n",
        "\n",
        "\n",
        "    def ajouter_membre(self, membre):\n",
        "        \"\"\"Ajoute un membre à la liste des membres de la bibliothèque.\"\"\"\n",
        "        self.membres.append(membre)\n",
        "\n",
        "    def afficher_livres_disponibles(self):\n",
        "        \"\"\"Affiche la liste des livres disponibles dans la bibliothèque.\"\"\"\n",
        "        if self.livres_disponibles:\n",
        "            print(\"Livres disponibles dans la bibliothèque:\")\n",
        "            for livre in self.livres_disponibles:\n",
        "                livre.afficher_details()\n",
        "        else:\n",
        "            print(\"Aucun livre disponible dans la bibliothèque.\")\n",
        "\n",
        "    def afficher_membres(self):\n",
        "        \"\"\"Affiche la liste des membres de la bibliothèque.\"\"\"\n",
        "        if self.membres:\n",
        "            print(\"Membres de la bibliothèque:\")\n",
        "            for membre in self.membres:\n",
        "                membre.afficher_livres_empruntes()\n",
        "        else:\n",
        "            print(\"Aucun membre dans la bibliothèque.\")\n"
      ],
      "metadata": {
        "id": "17YF0-8Hj8K0"
      },
      "execution_count": 74,
      "outputs": []
    },
    {
      "cell_type": "code",
      "source": [
        "# Exemple d'utilisation\n",
        "if __name__ == \"__main__\":\n",
        "    # Création d'instances de différentes classes\n",
        "    livre1 = Livre(\"Python Programming\", \"John Doe\", 2020, \"123456789\", \"Informatique\", \"Anglais\")\n",
        "    roman1 = Roman(\"Les Misérables\", \"Victor Hugo\", 1862, \"9780140444308\", \"Fiction\", \"Français\", \"XIXe siècle\")\n",
        "    sf1 = ScienceFiction(\"Dune\", \"Frank Herbert\", 1965, \"9780441172719\", \"Science Fiction\", \"Anglais\", \"Espace et politique\")\n",
        "    etudiant1 = Etudiant(\"Alice\", \"123\", \"Première année\")\n",
        "    enseignant1 = Enseignant(\"Professeur Smith\", \"456\", \"Maître de conférences\")\n",
        "    # Affichage des détails de chaque objet\n",
        "    #livre1.afficher_details()\n",
        "    #roman1.afficher_details()\n",
        "    #sf1.afficher_details()\n",
        "    #etudiant1.afficher_details()\n",
        "    #enseignant1.afficher_details()\n",
        "    # Test avec la classe Bibliotheque\n",
        "    bibliotheque = Bibliotheque()\n",
        "    # Emprunt d'un livre par un membre\n",
        "    etudiant1.emprunter_livre(livre1)\n",
        "    # Emprunt d'un livre par un membre\n",
        "    enseignant1.emprunter_livre(sf1)\n",
        "    # Emprunt d'un livre par un membre\n",
        "    enseignant1.emprunter_livre(roman1)\n",
        "    # Ajout d'objets à la bibliothèque\n",
        "    bibliotheque.ajouter_livre(livre1)\n",
        "    bibliotheque.ajouter_livre(roman1)\n",
        "    bibliotheque.ajouter_livre(sf1)\n",
        "    bibliotheque.ajouter_membre(etudiant1)\n",
        "    bibliotheque.ajouter_membre(enseignant1)\n",
        "\n",
        "    # Affichage des livres disponibles et des membres de la bibliothèque\n",
        "    bibliotheque.afficher_livres_disponibles()\n",
        "    bibliotheque.afficher_membres()"
      ],
      "metadata": {
        "colab": {
          "base_uri": "https://localhost:8080/"
        },
        "id": "2oJ80GuYkDwc",
        "outputId": "47522c53-9657-401e-ccd0-bb6f328223b8"
      },
      "execution_count": 75,
      "outputs": [
        {
          "output_type": "stream",
          "name": "stdout",
          "text": [
            "Livres disponibles dans la bibliothèque:\n",
            "Python Programming par John Doe, publié en 2020, ISBN : 123456789\n",
            "Genre : Informatique, Langue : Anglais\n",
            "Les Misérables par Victor Hugo, publié en 1862, ISBN : 9780140444308\n",
            "Genre : Fiction, Langue : Français\n",
            "Période : XIXe siècle\n",
            "Dune par Frank Herbert, publié en 1965, ISBN : 9780441172719\n",
            "Genre : Science Fiction, Langue : Anglais\n",
            "Thème : Espace et politique\n",
            "Membres de la bibliothèque:\n",
            "Livres empruntés par Alice:\n",
            "Python Programming par John Doe, publié en 2020, ISBN : 123456789\n",
            "Genre : Informatique, Langue : Anglais\n",
            "Niveau : Première année\n",
            "Livres empruntés par Professeur Smith:\n",
            "Dune par Frank Herbert, publié en 1965, ISBN : 9780441172719\n",
            "Genre : Science Fiction, Langue : Anglais\n",
            "Thème : Espace et politique\n",
            "Les Misérables par Victor Hugo, publié en 1862, ISBN : 9780140444308\n",
            "Genre : Fiction, Langue : Français\n",
            "Période : XIXe siècle\n",
            "Grade : Maître de conférences\n"
          ]
        }
      ]
    },
    {
      "cell_type": "code",
      "source": [],
      "metadata": {
        "id": "yrSnywlZmVUm"
      },
      "execution_count": null,
      "outputs": []
    },
    {
      "cell_type": "markdown",
      "source": [
        "## Version entendu de la gestion Bibliotheque\n",
        "#### **Classe Bibliotheque** :\n",
        "\n",
        "* Créez une classe Bibliotheque avec des listes vides pour les livres_disponibles et les membres.\n",
        "* Ajoutez des méthodes pour ajouter un livre (**ajouter_livre**), ajouter un membre (**ajouter_membre**), afficher les livres disponibles (**afficher_livres_disponibles**), et afficher les membres (**afficher_membres**).\n",
        "* Ajoutez une méthode pour rechercher un livre par titre (**rechercher_livre**).\n",
        "* Ajoutez une méthode pour vérifier si un livre est actuellement emprunté (**est_livre_emprunte**).\n",
        "* Ajoutez une méthode pour déterminer qui a emprunté un livre (**qui_a_emprunte**).\n",
        "\n",
        "\n",
        "### **Test de la bibliothèque**:\n",
        "\n",
        "* Créez des instances de la classe **Bibliotheque**, de la classe Livre, de la classe **Etudiant**, et de la classe **Enseignant**.\n",
        "* Ajoutez des livres et des membres à la bibliothèque.\n",
        "* Affichez les livres disponibles et les membres de la bibliothèque.\n",
        "* Effectuez des recherches de livres par titre.\n",
        "* Vérifiez si un livre est emprunté et déterminez qui l'a emprunté."
      ],
      "metadata": {
        "id": "IB9SwxjKmVCt"
      }
    },
    {
      "cell_type": "code",
      "source": [
        "class Bibliotheque2(Bibliotheque):\n",
        "    def __init__(self):\n",
        "        \"\"\"Initialise un objet Bibliotheque avec des listes vides de livres disponibles et de membres.\"\"\"\n",
        "        self.livres_disponibles = []\n",
        "        self.membres = []\n",
        "\n",
        "    def ajouter_livre(self, livre):\n",
        "        \"\"\"Ajoute un livre à la liste des livres disponibles dans la bibliothèque.\"\"\"\n",
        "        self.livres_disponibles.append(livre)\n",
        "\n",
        "    def ajouter_membre(self, membre):\n",
        "        \"\"\"Ajoute un membre à la liste des membres de la bibliothèque.\"\"\"\n",
        "        self.membres.append(membre)\n",
        "\n",
        "    def afficher_livres_disponibles(self):\n",
        "        \"\"\"Affiche la liste des livres disponibles dans la bibliothèque.\"\"\"\n",
        "        if self.livres_disponibles:\n",
        "            print(\"Livres disponibles dans la bibliothèque:\")\n",
        "            for livre in self.livres_disponibles:\n",
        "                livre.afficher_details()\n",
        "        else:\n",
        "            print(\"Aucun livre disponible dans la bibliothèque.\")\n",
        "\n",
        "    def afficher_membres(self):\n",
        "        \"\"\"Affiche la liste des membres de la bibliothèque.\"\"\"\n",
        "        if self.membres:\n",
        "            print(\"Membres de la bibliothèque:\")\n",
        "            for membre in self.membres:\n",
        "                print(f\"Nom: {membre.nom}, Numéro de membre: {membre.numero_membre}\")\n",
        "        else:\n",
        "            print(\"Aucun membre dans la bibliothèque.\")\n",
        "\n",
        "    def rechercher_livre(self, titre):\n",
        "        \"\"\"Recherche un livre par titre dans la bibliothèque.\"\"\"\n",
        "        for livre in self.livres_disponibles:\n",
        "            if livre.titre == titre:\n",
        "                print(f\"Le livre '{titre}' est disponible dans la bibliothèque.\")\n",
        "                return livre\n",
        "        print(f\"Le livre '{titre}' n'est pas disponible dans la bibliothèque.\")\n",
        "        return None\n",
        "\n",
        "    def est_livre_emprunte(self, livre):\n",
        "        \"\"\"Vérifie si un livre est actuellement emprunté.\"\"\"\n",
        "        return livre in [livre_emprunte for membre in self.membres for livre_emprunte in membre.livres_empruntes]\n",
        "\n",
        "    def qui_a_emprunte(self, livre):\n",
        "        \"\"\"Retourne le membre qui a emprunté un livre.\"\"\"\n",
        "        for membre in self.membres:\n",
        "            if livre in membre.livres_empruntes:\n",
        "                print(f\"Le livre '{livre.titre}' a été emprunté par {membre.nom}.\")\n",
        "                return membre\n",
        "        print(f\"Le livre '{livre.titre}' n'a pas été emprunté.\")\n",
        "        return None\n",
        "\n",
        "\n"
      ],
      "metadata": {
        "id": "GHU35515mV8y"
      },
      "execution_count": 77,
      "outputs": []
    },
    {
      "cell_type": "code",
      "source": [
        "# Exemple d'utilisation\n",
        "if __name__ == \"__main__\":\n",
        "    # Création d'instances de différentes classes\n",
        "    livre1 = Livre(\"Python Programming\", \"John Doe\", 2020, \"123456789\", \"Informatique\", \"Anglais\")\n",
        "    roman1 = Roman(\"Les Misérables\", \"Victor Hugo\", 1862, \"9780140444308\", \"Fiction\", \"Français\", \"XIXe siècle\")\n",
        "    sf1 = ScienceFiction(\"Dune\", \"Frank Herbert\", 1965, \"9780441172719\", \"Science Fiction\", \"Anglais\", \"Espace et politique\")\n",
        "    etudiant1 = Etudiant(\"Alice\", \"123\", \"Première année\")\n",
        "    enseignant1 = Enseignant(\"Professeur Smith\", \"456\", \"Maître de conférences\")# Test avec la classe Bibliotheque\n",
        "    bibliotheque = Bibliotheque2()\n",
        "\n",
        "    # Ajout d'objets à la bibliothèque\n",
        "    bibliotheque.ajouter_livre(livre1)\n",
        "    bibliotheque.ajouter_livre(roman1)\n",
        "    bibliotheque.ajouter_livre(sf1)\n",
        "    bibliotheque.ajouter_membre(etudiant1)\n",
        "    bibliotheque.ajouter_membre(enseignant1)\n",
        "\n",
        "    # Emprunt d'un livre par un membre\n",
        "    etudiant1.emprunter_livre(livre1)\n",
        "    # Emprunt d'un livre par un membre\n",
        "    enseignant1.emprunter_livre(sf1)\n",
        "    # Emprunt d'un livre par un membre\n",
        "    enseignant1.emprunter_livre(roman1)\n",
        "    # Affichage des livres disponibles et des membres de la bibliothèque\n",
        "    bibliotheque.afficher_livres_disponibles()\n",
        "    bibliotheque.afficher_membres()\n",
        "\n",
        "    # Recherche d'un livre par titre\n",
        "    livre_recherche = bibliotheque.rechercher_livre(\"Python Programming\")\n",
        "\n",
        "    # Vérification si le livre est emprunté\n",
        "    if livre_recherche:\n",
        "        if bibliotheque.est_livre_emprunte(livre_recherche):\n",
        "            print(\"Le livre est actuellement emprunté.\")\n",
        "        else:\n",
        "            print(\"Le livre n'est pas actuellement emprunté.\")\n",
        "\n",
        "    # Vérification qui a emprunté le livre\n",
        "    if livre_recherche:\n",
        "        emprunteur = bibliotheque.qui_a_emprunte(livre_recherche)\n",
        "        if emprunteur:\n",
        "            print(f\"{emprunteur.nom} a emprunté le livre.\")\n"
      ],
      "metadata": {
        "colab": {
          "base_uri": "https://localhost:8080/"
        },
        "id": "l_LrVfY7mgJi",
        "outputId": "936a46e5-fbc0-49ca-b25e-e582e4cbeef3"
      },
      "execution_count": 80,
      "outputs": [
        {
          "output_type": "stream",
          "name": "stdout",
          "text": [
            "Livres disponibles dans la bibliothèque:\n",
            "Python Programming par John Doe, publié en 2020, ISBN : 123456789\n",
            "Genre : Informatique, Langue : Anglais\n",
            "Les Misérables par Victor Hugo, publié en 1862, ISBN : 9780140444308\n",
            "Genre : Fiction, Langue : Français\n",
            "Période : XIXe siècle\n",
            "Dune par Frank Herbert, publié en 1965, ISBN : 9780441172719\n",
            "Genre : Science Fiction, Langue : Anglais\n",
            "Thème : Espace et politique\n",
            "Membres de la bibliothèque:\n",
            "Nom: Alice, Numéro de membre: 123\n",
            "Nom: Professeur Smith, Numéro de membre: 456\n",
            "Le livre 'Python Programming' est disponible dans la bibliothèque.\n",
            "Le livre est actuellement emprunté.\n",
            "Le livre 'Python Programming' a été emprunté par Alice.\n",
            "Alice a emprunté le livre.\n"
          ]
        }
      ]
    }
  ]
}